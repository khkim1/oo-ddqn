{
 "cells": [
  {
   "cell_type": "code",
   "execution_count": 9,
   "metadata": {},
   "outputs": [],
   "source": [
    "from matplotlib import pyplot as plt\n",
    "from matplotlib.pyplot import imshow\n",
    "import gym\n",
    "from PIL import Image, ImageDraw\n",
    "import numpy as np\n",
    "\n",
    "%matplotlib inline"
   ]
  },
  {
   "cell_type": "code",
   "execution_count": 64,
   "metadata": {},
   "outputs": [],
   "source": [
    "plt.rcParams['figure.figsize'] = [18, 12]\n",
    "HEADER_HEIGHT = 34"
   ]
  },
  {
   "cell_type": "code",
   "execution_count": 65,
   "metadata": {
    "collapsed": true
   },
   "outputs": [],
   "source": [
    "def preprocess_atari_crop(I):\n",
    "  I = I.copy()\n",
    "#   I = I[35:195]  # crop\n",
    "  I = I[HEADER_HEIGHT:194]\n",
    "  I[I[:, :, 0] == 144, :] = 0  # erase background (background type 1)\n",
    "  I[I[:, :, 0] == 109, :] = 0  # erase background (background type 2)\n",
    "  I[157:, :, :] = 0\n",
    "  return I\n",
    "\n",
    "def preprocess_atari_object(image):\n",
    "    I = preprocess_atari_crop(image)\n",
    "    object_coord = np.zeros((6, ))\n",
    "\n",
    "    for idx, target in enumerate([92, 236, 213]):\n",
    "        coord_tuple = np.where(I[:, :, 0] == target)\n",
    "\n",
    "        if len(coord_tuple[0]) > 0 and len(coord_tuple[1]) > 0:\n",
    "#             object_coord[idx*2] = (np.mean(coord_tuple[1]))\n",
    "#             object_coord[idx*2 + 1] = np.mean(coord_tuple[0])\n",
    "            object_coord[idx*2] = (np.min(coord_tuple[1]))\n",
    "            object_coord[idx*2 + 1] = np.min(coord_tuple[0])\n",
    "\n",
    "            \n",
    "    # Return the object coordinates\n",
    "    return object_coord.reshape((1, 6, 1))\n"
   ]
  },
  {
   "cell_type": "code",
   "execution_count": 66,
   "metadata": {},
   "outputs": [],
   "source": [
    "def annotate_img(arr):\n",
    "    objvec = preprocess_atari_object(arr).reshape([-1])\n",
    "    img = Image.fromarray(arr)\n",
    "    x_a,y_a,x_b,y_b,x_p,y_p = objvec.astype(np.int)\n",
    "    draw = ImageDraw.Draw(img)\n",
    "    draw.rectangle([x_a,HEADER_HEIGHT+y_a,x_a,HEADER_HEIGHT+y_a], fill='red', outline=None)\n",
    "    draw.rectangle([x_b,HEADER_HEIGHT+y_b,x_b,HEADER_HEIGHT+y_b], fill='black', outline=None)\n",
    "    draw.rectangle([x_p,HEADER_HEIGHT+y_p,x_p,HEADER_HEIGHT+y_p], fill='blue', outline=None)\n",
    "    return np.asarray(img.resize((img.width*10,img.height*10)))\n",
    "#     imshow(np.asarray(img.resize((img.width*6,img.height*6))))\n",
    "#     plt.imsave(fname='step_%d'%step, np.asarray(img.resize((img.width*6,img.height*6))))"
   ]
  },
  {
   "cell_type": "code",
   "execution_count": 67,
   "metadata": {},
   "outputs": [
    {
     "name": "stdout",
     "output_type": "stream",
     "text": [
      "current step: 20\n",
      "current step: 40\n",
      "current step: 60\n",
      "current step: 80\n",
      "current step: 100\n",
      "current step: 120\n",
      "current step: 140\n",
      "current step: 160\n",
      "current step: 180\n"
     ]
    }
   ],
   "source": [
    "import time\n",
    "from IPython import display\n",
    "env = gym.make('PongDeterministic-v4')\n",
    "arr = env.reset()\n",
    "NAME = 'min_step_%d.png'\n",
    "plt.imsave(fname=NAME%0, arr=annotate_img(arr))\n",
    "# plt.imshow(annotate_img(arr))\n",
    "# display.clear_output(wait=True)\n",
    "# display.display(plt.gcf())\n",
    "# time.sleep(2)\n",
    "for step in range(1, 200):\n",
    "    arr = env.step(env.action_space.sample())[0]\n",
    "    plt.imsave(fname=NAME%step, arr=annotate_img(arr))\n",
    "    if step % 20 == 0:\n",
    "        print('current step:', step)\n",
    "#     plt.imshow(annotate_img(arr))\n",
    "#     display.clear_output(wait=True)\n",
    "#     display.display(plt.gcf())\n",
    "#     time.sleep(0.5)"
   ]
  }
 ],
 "metadata": {
  "kernelspec": {
   "display_name": "Python 3",
   "language": "python",
   "name": "python3"
  },
  "language_info": {
   "codemirror_mode": {
    "name": "ipython",
    "version": 3
   },
   "file_extension": ".py",
   "mimetype": "text/x-python",
   "name": "python",
   "nbconvert_exporter": "python",
   "pygments_lexer": "ipython3",
   "version": "3.6.2"
  }
 },
 "nbformat": 4,
 "nbformat_minor": 2
}
